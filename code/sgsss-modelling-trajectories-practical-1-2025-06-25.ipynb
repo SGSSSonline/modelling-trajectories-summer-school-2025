{
 "cells": [
  {
   "cell_type": "markdown",
   "id": "274796c9",
   "metadata": {},
   "source": [
    "# Understanding and Modelling Trajectories in the Social Sciences"
   ]
  },
  {
   "cell_type": "markdown",
   "id": "f90ebb75",
   "metadata": {},
   "source": [
    "Wednesday 5 June 2024\n",
    "\n",
    "Dr Diarmuid McDonnell"
   ]
  },
  {
   "cell_type": "markdown",
   "id": "12f67ad1",
   "metadata": {},
   "source": [
    "## Inequalities in charity density across UK local authorities: 1971-2021"
   ]
  },
  {
   "cell_type": "markdown",
   "id": "05d19eb6",
   "metadata": {},
   "source": [
    "This notebook replicates elements of a paper examining local authority-level trajectories in the numbers of charities per capita \n",
    "over time."
   ]
  },
  {
   "cell_type": "markdown",
   "id": "c1abb131",
   "metadata": {},
   "source": [
    "```\n",
    "Abstract\n",
    "\n",
    "There are longstanding concerns about unevenness in the distribution of voluntary organisations across local areas, re-emphasised by the sector’s role in responding to the pandemic. Using longitudinal data on a subset of voluntary organisations across six census periods (1971-2021), we estimate growth trajectories in the number of charities per capita for local authorities across England and Wales. We assess whether the shape of these trajectories is associated with an area’s demographic and geographic characteristics, including its level of material deprivation, ethnic composition and regional location. We reveal sizeable, enduring and widening differences between local authorities over time, but find a homogenous growth trajectory for all areas. Our findings suggest that national efforts are needed to address inequalities in the distribution of charitable organisations, as well as reverse recent declines in the per capita density of these organisations. \n",
    "```"
   ]
  },
  {
   "cell_type": "markdown",
   "id": "32d54bdf",
   "metadata": {},
   "source": [
    "### Aims\n",
    "\n",
    "This lesson has two aims:\n",
    "1. Demonstrate how to estimate and interpret growth-curve models to answer social science research questions.\n",
    "2. Cultivate your computational skills through the use of the statistical programming langauge *R*. For example, there are a number of opportunities for you to amend or write R syntax (code)."
   ]
  },
  {
   "cell_type": "markdown",
   "id": "terminal-agenda",
   "metadata": {},
   "source": [
    "### Guide to using this resource\n",
    "\n",
    "This learning resource was built using <a href=\"https://jupyter.org/\" target=_blank>Jupyter Notebook</a>, an open-source software application that allows you to mix code, results and narrative in a single document. As <a href=\"https://jupyter4edu.github.io/jupyter-edu-book/\" target=_blank>Barba et al. (2019)</a> espouse:\n",
    "> In a world where every subject matter can have a data-supported treatment, where computational devices are omnipresent and pervasive, the union of natural language and computation creates compelling communication and learning opportunities.\n",
    "\n",
    "If you are familiar with Jupyter notebooks then skip ahead to the main content (*Quick Recap: Analysing Data*). Otherwise, the following is a quick guide to navigating and interacting with the notebook."
   ]
  },
  {
   "cell_type": "markdown",
   "id": "interested-radar",
   "metadata": {},
   "source": [
    "### Interaction\n",
    "\n",
    "**You only need to execute the code that is contained in sections which are marked by `[]`.**\n",
    "\n",
    "To execute a cell, click or double-click the cell and press the `Play` button next to the cell or select the `Run` button on the top toolbar (*Runtime > Run the focused cell*); you can also use the keyboard shortcuts `Shift + Enter` or `Ctrl + Enter`).\n",
    "\n",
    "Try it for yourself:"
   ]
  },
  {
   "cell_type": "code",
   "execution_count": null,
   "id": "dominican-hardware",
   "metadata": {},
   "outputs": [],
   "source": [
    "name <- readline(prompt=\"Enter name: \")\n",
    "print(paste(\"Hi,\", name, \"enjoy learning more about R and statistical models!\"))"
   ]
  },
  {
   "cell_type": "markdown",
   "id": "through-storm",
   "metadata": {},
   "source": [
    "Notebooks are sequential, meaning code should be executed in order (top to bottom). For example, the following code won't work:"
   ]
  },
  {
   "cell_type": "code",
   "execution_count": null,
   "id": "outstanding-bulgaria",
   "metadata": {},
   "outputs": [],
   "source": [
    "x * 5"
   ]
  },
  {
   "cell_type": "markdown",
   "id": "handmade-madagascar",
   "metadata": {},
   "source": [
    "As the error message suggests, there is no object (variable) called `x`, therefore we cannot do any calculations with it. \n",
    "\n",
    "Let's try a sequential approach:"
   ]
  },
  {
   "cell_type": "code",
   "execution_count": null,
   "id": "addressed-assumption",
   "metadata": {},
   "outputs": [],
   "source": [
    "x <- 10 # create an object called 'x' and give it the value '10'"
   ]
  },
  {
   "cell_type": "code",
   "execution_count": null,
   "id": "crucial-implement",
   "metadata": {},
   "outputs": [],
   "source": [
    "x * 5 # multiply 'x' by 5"
   ]
  },
  {
   "cell_type": "markdown",
   "id": "covered-round",
   "metadata": {},
   "source": [
    "### Learn more\n",
    "\n",
    "Jupyter notebooks provide rich, flexible features for conducting and documenting your data analysis workflow. To learn more about additional notebook features, we recommend working through some of the <a href=\"https://github.com/darribas/gds19/blob/master/content/labs/lab_00.ipynb\" target=_blank>materials</a> provided by Dani Arribas-Bel at the University of Liverpool. "
   ]
  },
  {
   "cell_type": "markdown",
   "id": "floppy-escape",
   "metadata": {},
   "source": [
    "### Learner input\n",
    "\n",
    "Throughout the lessons there times when you need to do the following activities:\n",
    "* **TASK:** A coding task for you to complete (e.g. analyse different variables).\n",
    "* **QUESTION:** A question regarding your interpretation of some code or a technique (e.g. what is the piece of code doing?).\n",
    "* **EXERCISE:** A data analysis challenge for you to complete."
   ]
  },
  {
   "cell_type": "markdown",
   "id": "6da38e1d",
   "metadata": {},
   "source": [
    "## Estimating growth-curve models"
   ]
  },
  {
   "cell_type": "markdown",
   "id": "9aba5625",
   "metadata": {},
   "source": [
    "We will employ a sequential process for estimating these types of models (Leckie and Browne, 2023):\n",
    "1. Examine data structure and descriptives\n",
    "2. Estimate a random intercept (null) model\n",
    "3. Estimate a random coefficent / slope model\n",
    "4. Estimate a random coefficient / slope model with time-invariant covariates\n",
    "5. Estimate a random coefficient / slope model with time-invariant and time-varying covariates\n",
    "6. Use final model to generate estimates of the random intercepts and coefficients"
   ]
  },
  {
   "cell_type": "markdown",
   "id": "9ba058b0-f94e-4032-aeb6-59b05a86013b",
   "metadata": {},
   "source": [
    "### Install and load packages"
   ]
  },
  {
   "cell_type": "markdown",
   "id": "d8a7a037-7acb-4be9-9798-867d555bc9b3",
   "metadata": {},
   "source": [
    "Note you only have to install the packages **once** per machine, but you have to load them (`library(package)`) every time you start a new R session."
   ]
  },
  {
   "cell_type": "code",
   "execution_count": null,
   "id": "58ae1a3f-70b2-433f-996b-bd4948c2fec8",
   "metadata": {},
   "outputs": [],
   "source": [
    "install.packages(\"aod\")\n",
    "install.packages(\"tidyverse\")\n",
    "install.packages(\"ggplot2\")\n",
    "install.packages(\"lme4\")\n",
    "install.packages(\"lmerTest\")\n",
    "install.packages(\"lmtest\")"
   ]
  },
  {
   "cell_type": "code",
   "execution_count": null,
   "id": "49a5b94f-ef85-472b-a2fe-d31b61316e8f",
   "metadata": {},
   "outputs": [],
   "source": [
    "library(aod)      # Conducting Wald tests\n",
    "library(tidyverse) # Various data management functions\n",
    "library(ggplot2)  # Graphs\n",
    "library(lme4)     # Estimating multilevel models\n",
    "library(lmerTest) # Printing p-values for the regression coefficients\n",
    "library(lmtest)   # Conducting likelihood ratio tests"
   ]
  },
  {
   "cell_type": "code",
   "execution_count": null,
   "id": "00c99d31-8c1c-4af2-adb6-b7ed40e1f1ba",
   "metadata": {},
   "outputs": [],
   "source": [
    "options(scipen=999) # disable scientific notation"
   ]
  },
  {
   "cell_type": "markdown",
   "id": "4cdbfaf2",
   "metadata": {},
   "source": [
    "### Import data"
   ]
  },
  {
   "cell_type": "code",
   "execution_count": null,
   "id": "d84db0a6",
   "metadata": {},
   "outputs": [],
   "source": [
    "df <- read.csv(\"https://raw.githubusercontent.com/DiarmuidM/sgsss-modeling-trajectories-2024/main/data/la-stats-1971-2021-analysis.csv\", header=TRUE, na=\"NA\", sep=\",\")\n",
    "head(df, n=12) # view the first twelve observations"
   ]
  },
  {
   "cell_type": "code",
   "execution_count": null,
   "id": "edfaa4f8",
   "metadata": {},
   "outputs": [],
   "source": [
    "str(df)"
   ]
  },
  {
   "cell_type": "code",
   "execution_count": null,
   "id": "f7ba86a3",
   "metadata": {},
   "outputs": [],
   "source": [
    "df$pph_cat <- factor(df$pph_cat, levels = c(1,2,3,4,5), labels = c(\"Most Urban\", \"Very Urban\", \"Urban\", \"Rural\", \"Most Rural\"))"
   ]
  },
  {
   "cell_type": "code",
   "execution_count": null,
   "id": "a3f41a63",
   "metadata": {},
   "outputs": [],
   "source": [
    "df$region <- factor(df$region, levels = c(1,2,3,4,5,6,7,8,9,10), labels = c(\"North East\", \"North West\", \"Yorkshire and The Humber\", \n",
    "                                                                            \"East Midlands\", \"West Midlands\", \"East of England\",\n",
    "                                                                           \"London\", \"South East\", \"South West\", \"Wales\"))"
   ]
  },
  {
   "cell_type": "markdown",
   "id": "11f4f1ce",
   "metadata": {},
   "source": [
    "### Data Structure and Descriptives"
   ]
  },
  {
   "cell_type": "markdown",
   "id": "063c564e",
   "metadata": {},
   "source": [
    "#### Data structure"
   ]
  },
  {
   "cell_type": "code",
   "execution_count": null,
   "id": "4d152f32-9555-4a65-a9e5-0cbcd1950805",
   "metadata": {},
   "outputs": [],
   "source": [
    "length(unique(df$la_id))"
   ]
  },
  {
   "cell_type": "code",
   "execution_count": null,
   "id": "befddb98-51fa-4421-9eee-bdab285fd996",
   "metadata": {},
   "outputs": [],
   "source": [
    "length(unique(df$year))"
   ]
  },
  {
   "cell_type": "code",
   "execution_count": null,
   "id": "4523a57d-3a7f-4b57-bf22-cfee8a8f73b6",
   "metadata": {},
   "outputs": [],
   "source": [
    "df %>% count(year)"
   ]
  },
  {
   "cell_type": "markdown",
   "id": "0587961d-0f4b-4a47-8347-a892bd97af46",
   "metadata": {},
   "source": [
    "We have longitudinal data on 330 local authorities in England and Wales over the period 1971-2021. Each local authority is observed at the same time point and for a total of six times (the census years). Therefore we have perfectly balanced data."
   ]
  },
  {
   "cell_type": "markdown",
   "id": "5d8742ce",
   "metadata": {},
   "source": [
    "Data need to be in long format for estimating growth-curve models. That is, an observation is uniquely identified by a combination of unit id (e.g., local authority) and time period (e.g., census period). An alternative data structure is the wide format, where an observation is uniquely identified by the unit id and the observations at each time period are stored in separate variables (e.g., income2021, income2022, etc)."
   ]
  },
  {
   "cell_type": "markdown",
   "id": "0124d8aa-0f5c-4991-8ebb-2c0b3894ec2d",
   "metadata": {},
   "source": [
    "#### Descriptives"
   ]
  },
  {
   "cell_type": "markdown",
   "id": "34c962f5-a58a-43ac-8d09-bf81125b245d",
   "metadata": {},
   "source": [
    "We have one dependent / outcome variable and five independent variables / predictors / covariates:\n",
    "* `charpop` - number of charities per 1000 residents in a local authority\n",
    "* `town` - composite score which measures the level of material deprivation in a local authority; where a value of zero represents a local authority with a mean level of material deprivation, above zero identifies more deprived areas relative to mean deprivation, below zero identifies more affluent areas relative to mean deprivation\n",
    "* `qual` - the percentage of individuals with the highest level of qualification (i.e., degree) in a local authority\n",
    "* `nonbw` - the percentage of non-White individuals (non-British Isles born in 1971 and 1981, and Non-White ethnicity 1991 onwards) in a local authority\n",
    "* `region` - the International Territorial Levels (ITLs) classification of the region a local authority is in\n",
    "* `pph_cat` - the degree of rurality in a local authority, operationalised as an ordinal categorical measure of the number of persons per hectare "
   ]
  },
  {
   "cell_type": "code",
   "execution_count": null,
   "id": "3212a7f2",
   "metadata": {},
   "outputs": [],
   "source": [
    "summary(df$charpop)"
   ]
  },
  {
   "cell_type": "code",
   "execution_count": null,
   "id": "41e0f57f",
   "metadata": {},
   "outputs": [],
   "source": [
    "summary(df$town)"
   ]
  },
  {
   "cell_type": "code",
   "execution_count": null,
   "id": "f278e142",
   "metadata": {},
   "outputs": [],
   "source": [
    "summary(df$qual)"
   ]
  },
  {
   "cell_type": "code",
   "execution_count": null,
   "id": "7b733021",
   "metadata": {},
   "outputs": [],
   "source": [
    "summary(df$nonbw)"
   ]
  },
  {
   "cell_type": "code",
   "execution_count": null,
   "id": "2c8d6c49",
   "metadata": {},
   "outputs": [],
   "source": [
    "table(df$region)"
   ]
  },
  {
   "cell_type": "code",
   "execution_count": null,
   "id": "39125949",
   "metadata": {},
   "outputs": [],
   "source": [
    "table(df$pph_cat)"
   ]
  },
  {
   "cell_type": "markdown",
   "id": "25597dd4-98e2-4d4b-bac0-5164f33a0bd1",
   "metadata": {},
   "source": [
    "List a small subset of the data:"
   ]
  },
  {
   "cell_type": "code",
   "execution_count": null,
   "id": "5290887b-f010-4717-a5e1-b2c70c4f7031",
   "metadata": {},
   "outputs": [],
   "source": [
    "df[df$la_id == 258 | df$la_id == 91, \n",
    "       c(\"la_name\" , \"year\", \"charpop\" , \"town\" , \"qual\" , \"nonbw\", \"region\", \"pph_cat\")]"
   ]
  },
  {
   "cell_type": "markdown",
   "id": "bd50bcdc-6474-4c23-a0c1-5bc60e3bcf6d",
   "metadata": {},
   "source": [
    "**TASK:** Select a different set of local authority ids and display their observations like above."
   ]
  },
  {
   "cell_type": "code",
   "execution_count": null,
   "id": "b5cac4f1-854c-450e-80d0-807bbf000e01",
   "metadata": {},
   "outputs": [],
   "source": [
    "# INSERT CODE HERE #"
   ]
  },
  {
   "cell_type": "markdown",
   "id": "2a2a7684-78af-4ca2-b77f-b67e0efea707",
   "metadata": {},
   "source": [
    "#### Examine variation between and within local authorities"
   ]
  },
  {
   "cell_type": "markdown",
   "id": "6c976e5a-59db-40c0-b123-8c5ddbf3cc62",
   "metadata": {},
   "source": [
    "In addition to the usual exploratory activities (e.g., summarising variables, checking valid values and observations), we want to establish where there is sufficient variation in the outcome **between** and **within** units of analysis. If there isn't then we would prefer a simpler model that averaged values across units and over time i.e., a single intercept and slope for all units of analysis."
   ]
  },
  {
   "cell_type": "markdown",
   "id": "3a5596bf-ba03-4eb9-82ad-ab7ae4349979",
   "metadata": {},
   "source": [
    "##### Between variation"
   ]
  },
  {
   "cell_type": "code",
   "execution_count": null,
   "id": "229d0a40-46d3-49ae-a8f9-205dbf32cefd",
   "metadata": {},
   "outputs": [],
   "source": [
    "df_means <- df %>% group_by(la_id) %>% summarise(charpop=mean(charpop))"
   ]
  },
  {
   "cell_type": "code",
   "execution_count": null,
   "id": "a2487ee7-4d22-4ace-a8b3-98ab444cdd3a",
   "metadata": {},
   "outputs": [],
   "source": [
    "mn_charpop <- mean(df_means$charpop)"
   ]
  },
  {
   "cell_type": "code",
   "execution_count": null,
   "id": "9fddcdd1-756b-457b-86d5-9b98fe0f606c",
   "metadata": {},
   "outputs": [],
   "source": [
    "ggplot(df_means, aes(x = la_id, y = charpop)) + \n",
    "    geom_point() +\n",
    "    geom_hline(yintercept=mn_charpop) + \n",
    "    theme_classic()"
   ]
  },
  {
   "cell_type": "markdown",
   "id": "dd4951b0-e7f3-44c9-a188-fa0045f62429",
   "metadata": {},
   "source": [
    "Let's unpack the above code and graph. We are interested in whether local authorities are sufficiently different than each other with respect to their average levels of charity density. The average across all local authorities is ~2.72, therefore we want to see how individual local authorities deviate around this value. The graph suggests that there is a moderate / large amount of **between variation** in the data."
   ]
  },
  {
   "cell_type": "markdown",
   "id": "2be8daf3-dd2c-4385-88a0-a2d51170dbae",
   "metadata": {},
   "source": [
    "**QUESTION:** Can you describe what the `df_means <- df %>% group_by(la_id) %>% summarise(charpop=mean(charpop))` code is doing?"
   ]
  },
  {
   "cell_type": "markdown",
   "id": "25675a44-9b0d-4a91-8a76-6edec6df13dc",
   "metadata": {},
   "source": [
    "**TASK:** Replace `df_means` with `df` in the `ggplot` code above - what happens and why?"
   ]
  },
  {
   "cell_type": "code",
   "execution_count": null,
   "id": "d0e3c494-aaa6-4327-a2d5-667420e54d6b",
   "metadata": {},
   "outputs": [],
   "source": [
    "# INSERT CODE HERE #"
   ]
  },
  {
   "cell_type": "markdown",
   "id": "717942a9-beed-4768-a66c-256e85761ec8",
   "metadata": {},
   "source": [
    "##### Within variation"
   ]
  },
  {
   "cell_type": "markdown",
   "id": "77bb8dfb-de93-4b53-9ddf-25e82c1d583e",
   "metadata": {},
   "source": [
    "First let's look at a small sample of local authorities to see if theie levels of charity density change over time:"
   ]
  },
  {
   "cell_type": "code",
   "execution_count": null,
   "id": "8352ba50-41bf-45b3-b44f-1e404937707b",
   "metadata": {},
   "outputs": [],
   "source": [
    "df$sample <- df$la_id %in% c(258, 91, 4, 329, 155, 33)"
   ]
  },
  {
   "cell_type": "code",
   "execution_count": null,
   "id": "9a9dc8f2-f1ea-43eb-8971-55e2667a6c55",
   "metadata": {},
   "outputs": [],
   "source": [
    "ggplot(df[df$sample == TRUE, ], aes(x = year, y = charpop)) +\n",
    "    geom_point() +\n",
    "    geom_line() +\n",
    "    facet_wrap(~la_id) +\n",
    "    theme_classic()"
   ]
  },
  {
   "cell_type": "markdown",
   "id": "00db6d93-9f2e-431a-a746-82e171ef5f7d",
   "metadata": {},
   "source": [
    "**QUESTION:** Do you notice any patterns in the temporal trends?"
   ]
  },
  {
   "cell_type": "markdown",
   "id": "34ea8d02-3ae0-4d14-a169-36469eb32c8b",
   "metadata": {},
   "source": [
    "Now let's produce the temporal trends for all local authorities in the data:"
   ]
  },
  {
   "cell_type": "code",
   "execution_count": null,
   "id": "eab275d0-7c78-4381-93b2-7199cc194817",
   "metadata": {},
   "outputs": [],
   "source": [
    "ggplot(df, aes(x = year, y = charpop, group = la_id)) +\n",
    "    geom_point() +\n",
    "    geom_line() +\n",
    "    theme_classic()"
   ]
  },
  {
   "cell_type": "markdown",
   "id": "858fbdfe-8aa5-401e-a9a5-5c8b4f03285e",
   "metadata": {},
   "source": [
    "**QUESTION:** How would you summarise the nature and degree of within variation in charity density?"
   ]
  },
  {
   "cell_type": "markdown",
   "id": "44a4ed23-3bee-4271-94bd-23ed90e6863c",
   "metadata": {},
   "source": [
    "### Estimate a random intercept (null) model"
   ]
  },
  {
   "cell_type": "markdown",
   "id": "2129d4bb-f14d-4335-86e0-5b7b41cad04e",
   "metadata": {},
   "source": [
    "The descriptive analysis suggests that the local authority means do vary around the overall mean. Therefore we should estimate a model that allows us to capture this variation: a random intercept model. This does not include any covariates but it does allow every local authority to have its own intercept, which is likely to provide a better fit to the data than just having a single intercept for the whole sample. Thankfully we can test whether it is a better fit as follows:"
   ]
  },
  {
   "cell_type": "markdown",
   "id": "ff8b9185-3645-4fe0-a5f4-6082094e220b",
   "metadata": {},
   "source": [
    "#### Estimate a single-level model"
   ]
  },
  {
   "cell_type": "code",
   "execution_count": null,
   "id": "5716e834-e932-4147-811e-a5a4cf697e28",
   "metadata": {},
   "outputs": [],
   "source": [
    "m1 <- lm(charpop ~ 1, data = df)\n",
    "summary(m1)"
   ]
  },
  {
   "cell_type": "markdown",
   "id": "1f00c418-624f-4fc8-b632-d3cd59ba30e3",
   "metadata": {},
   "source": [
    "Notice how the model estimates a single intercept that is approximately the mean value of charity density for the whole sample."
   ]
  },
  {
   "cell_type": "code",
   "execution_count": null,
   "id": "36a92803-fe03-4152-827f-5bdbda0436da",
   "metadata": {},
   "outputs": [],
   "source": [
    "logLik(m1) # log-likelihood of the model - used in comparing nested models"
   ]
  },
  {
   "cell_type": "code",
   "execution_count": null,
   "id": "724d7942-651c-4792-b481-fa77b1e7c9b7",
   "metadata": {},
   "outputs": [],
   "source": [
    "-2*logLik(m1) # deviance of the model - used in comparing nested models"
   ]
  },
  {
   "cell_type": "markdown",
   "id": "c7e3d626-fe1b-4977-b132-dd6b17345364",
   "metadata": {},
   "source": [
    "#### Estimate a multi-level model"
   ]
  },
  {
   "cell_type": "code",
   "execution_count": null,
   "id": "617c35d3-523a-4e33-8133-80fafbe94a76",
   "metadata": {},
   "outputs": [],
   "source": [
    "m2 <- lmer(charpop ~ 1 + (1 | la_id), data = df, REML = FALSE)\n",
    "summary(m2)"
   ]
  },
  {
   "cell_type": "markdown",
   "id": "85493a68-9c00-4af9-8a3f-2d6451d1986a",
   "metadata": {},
   "source": [
    "We focus on the results reported under *Random effects* and *Fixed effects*. The latter reports the grand or overall mean of charity density for the whole sample. The former reports the variance around this overall mean by local authority - these figures are tricky to interpret so let's produce some derived findings that are more useful. "
   ]
  },
  {
   "cell_type": "markdown",
   "id": "d13fd78b-7048-4907-bcb2-9d11af52e6ae",
   "metadata": {},
   "source": [
    "##### Calculate the VPC/ICC"
   ]
  },
  {
   "cell_type": "code",
   "execution_count": null,
   "id": "f8449b8f-c434-4397-8e29-16cd3459893a",
   "metadata": {},
   "outputs": [],
   "source": [
    "rpm2 <- as.data.frame(VarCorr(m2))\n",
    "\n",
    "# VPC/ICC = var(u)/[var(u) +var(e)]\n",
    "rpm2$vcov[rpm2$grp == \"la_id\"] / sum(rpm2$vcov)"
   ]
  },
  {
   "cell_type": "markdown",
   "id": "3d010105-6dc2-4eb6-b1b2-5e588d3a38d8",
   "metadata": {},
   "source": [
    "The VPC / ICC is a measure of the importance of the group / nested structure of the data. Our figure of ~.81 implies that over 80 per cent of the variance in the outcome is accounted for by differences **between** local authorities (and the reverse is true: ~20 per cent of the variance in the outcome is accounted for by changes over time **within** local authorities).\n",
    "\n",
    "This coheres with our descriptive analysis, where it appears that the vast majority of local authorities have the same temporal trend (i.e., trajectory) but have considerably different mean levels of charity density. Therefore if we want to explain as much variance as possible we should focus on covariates that capture differences between local authorities."
   ]
  },
  {
   "cell_type": "markdown",
   "id": "bb3199be-ba91-4f69-80b0-9ef920fa71b8",
   "metadata": {},
   "source": [
    "Let's test whether the random intercept model is a better fit than a simple linear (single-level) model:"
   ]
  },
  {
   "cell_type": "code",
   "execution_count": null,
   "id": "c2e5c7a3-caee-44b4-b2ba-e64b89b06e23",
   "metadata": {},
   "outputs": [],
   "source": [
    "lrtest(m1, m2)"
   ]
  },
  {
   "cell_type": "markdown",
   "id": "f0242aef-4b36-4223-9882-8d808d04681f",
   "metadata": {},
   "source": [
    "Here we are looking at whether the Chisq value is statistically significant (i.e., is the reduction in log-likelihood between the models large enough to care about from a statistical perspective). In this case it is and therefore we should prefer the multi-level model."
   ]
  },
  {
   "cell_type": "markdown",
   "id": "fddaf1ed-03e2-4239-b7c9-765dd1d86f23",
   "metadata": {},
   "source": [
    "### Estimate a random coefficent / slope model"
   ]
  },
  {
   "cell_type": "markdown",
   "id": "d800dfb2-cce2-4c6c-8f46-db6807dbdc1d",
   "metadata": {},
   "source": [
    "While it is important to capture the **between variation** in our models, we should not lose sight of the fact that our substantive interest is in estimating trajectories over time. Therefore we need to incorporate our measure of time / period into the next set of models, as well as checking if the effect of time (or the shape of the trajectory) varies by local authority."
   ]
  },
  {
   "cell_type": "code",
   "execution_count": null,
   "id": "9b8b1238-c594-40e2-ba33-7ac6ea80e751",
   "metadata": {},
   "outputs": [],
   "source": [
    "df$period2 <- df$period^2"
   ]
  },
  {
   "cell_type": "markdown",
   "id": "260168e7-fd69-4a40-b8d9-a45184e51500",
   "metadata": {},
   "source": [
    "**QUESTION:** Why are we creating a quadratic / squared term for our time variable?"
   ]
  },
  {
   "cell_type": "code",
   "execution_count": null,
   "id": "bf92070a-02a5-41c0-8639-84020605ca86",
   "metadata": {},
   "outputs": [],
   "source": [
    "m3 <- lmer(charpop ~ period + period2 + (1 | la_id), data = df, REML = FALSE)\n",
    "summary(m3)"
   ]
  },
  {
   "cell_type": "markdown",
   "id": "449fe4a0-0c49-482b-a226-90088408db23",
   "metadata": {},
   "source": [
    "Let's focus on the fixed part of the model:\n",
    "* For every increase in census period, charity density increases linearly by .86 on average\n",
    "* For every increase in census period, the linear increase in charity density decreases by -.12 on average\n",
    "\n",
    "Therefore there is a concave / quadratic trajectory over time: charity density increases linearly initially but eventually becomes n-shaped. We saw that in the descriptives where charity density increased rapidly between 1971 and 2001, before tailing off / plateauing until 2021."
   ]
  },
  {
   "cell_type": "markdown",
   "id": "3eda5776-dc9e-4eb9-82e3-88e5d4b005e3",
   "metadata": {},
   "source": [
    "Is there evidence of variation in the shape of this trajectory by local authority:"
   ]
  },
  {
   "cell_type": "code",
   "execution_count": null,
   "id": "0c8d36ce-e4dd-4011-9e13-ab40edc29a04",
   "metadata": {},
   "outputs": [],
   "source": [
    "m4 <- lmer(charpop ~ period + period2 + (1 + period + period2 | la_id), data = df, REML = FALSE)\n",
    "summary(m4)"
   ]
  },
  {
   "cell_type": "markdown",
   "id": "b3d7c6e8-f222-481b-bdfc-4a36e6ad1fea",
   "metadata": {},
   "source": [
    "Looking at the results unde *Random effects*, it appears that the linear change over time does vary by local authority (i.e., some areas have faster / slower rates of change), but the quadratic change does not vary (i.e., local authorities experience essentially the same slowdown in linear growth). Therefore we could take out the `period2` covariate from the random part of the regression equation and model fit would be unaffected."
   ]
  },
  {
   "cell_type": "code",
   "execution_count": null,
   "id": "304c8f82-771c-4468-a9df-30e1b9b4f168",
   "metadata": {},
   "outputs": [],
   "source": [
    "m4 <- lmer(charpop ~ period + period2 + (1 + period | la_id), data = df, REML = FALSE)\n",
    "summary(m4)"
   ]
  },
  {
   "cell_type": "markdown",
   "id": "e193c6d8-e524-4cbd-9ea5-faafb7a78592",
   "metadata": {},
   "source": [
    "We can interpret another useful result from this model: the correlation between the random intercept and random slope. It is calculated as .25, which implies a small, positive correlation. We can interpret this as follows: local authorities that have higher than average levels of charity density have higher than average rates of change. Put more simply, the authorities with the most charities grew fastest."
   ]
  },
  {
   "cell_type": "code",
   "execution_count": null,
   "id": "a9ff64c9-6166-4f21-9c49-d89f50fd639c",
   "metadata": {},
   "outputs": [],
   "source": [
    "lrtest(m2, m4)"
   ]
  },
  {
   "cell_type": "markdown",
   "id": "a359d149-8ecc-4dd4-a9f2-6b976b22d54e",
   "metadata": {},
   "source": [
    "**QUESTION:** Should we prefer model 4 (random slope) over model 2 (random intercept)?"
   ]
  },
  {
   "cell_type": "markdown",
   "id": "e204b026-34d9-45ac-bca1-cc1b8546716b",
   "metadata": {},
   "source": [
    "#### Predict and plot trajectories"
   ]
  },
  {
   "cell_type": "markdown",
   "id": "7d0a8034-2403-472e-9825-02692dd80590",
   "metadata": {},
   "source": [
    "Let's take our first look at the model-implied trajectories for the local authorities:"
   ]
  },
  {
   "cell_type": "code",
   "execution_count": null,
   "id": "bbdbb2e7-d775-4a04-ab18-5b88151f2edc",
   "metadata": {},
   "outputs": [],
   "source": [
    "df$xbu1 <- predict(m4)\n",
    "\n",
    "# Plot the fitted growth curves\n",
    "ggplot(df, aes(x = year, y = xbu1, group = la_id)) +\n",
    "    geom_line() +\n",
    "    theme_classic()"
   ]
  },
  {
   "cell_type": "markdown",
   "id": "4421125f-6bd0-435d-80ce-7e971005536d",
   "metadata": {},
   "source": [
    "**QUESTION:** Describe the shape of these trajectories, focus particularly on the variation in intercepts and slopes."
   ]
  },
  {
   "cell_type": "markdown",
   "id": "033c6df6-1f58-4e84-85bf-515148367138",
   "metadata": {},
   "source": [
    "### Estimate a random coefficient / slope model with time-invariant covariates"
   ]
  },
  {
   "cell_type": "markdown",
   "id": "a8b0027e-2f94-44f7-bc3c-ceec27592931",
   "metadata": {},
   "source": [
    "Our latest model does a good job of estimating the trajectories seen in the descriptive analysis, and thus provide decent predictions for the level of charity density in a local authority at a given census period. We can aim to reduce the unexplained variance, especially the differences between local authorities, by including more covariates. We will focus on time-invariant covariates in the first instance: that is, variables whose values are constant within but different across local authorities (e.g., region)."
   ]
  },
  {
   "cell_type": "code",
   "execution_count": null,
   "id": "4227e86b-e609-4383-9c5a-ddaf0c76a334",
   "metadata": {},
   "outputs": [],
   "source": [
    "df$region <- relevel(df$region, \"London\") # set London as the base / reference category for the region variable for model estimation"
   ]
  },
  {
   "cell_type": "code",
   "execution_count": null,
   "id": "f092cff7-818f-4bbb-acd0-0b3df3f5895b",
   "metadata": {},
   "outputs": [],
   "source": [
    "m5 <- lmer(charpop ~ period + period2 + region + (1 + period | la_id), data = df, REML = FALSE)\n",
    "summary(m5)"
   ]
  },
  {
   "cell_type": "markdown",
   "id": "e170ed76-e853-4eb6-9dd3-d44a86b0dfe7",
   "metadata": {},
   "source": [
    "**TASK:** Conduct a likelihood ratio test of whether model 5 is a better fit for the data than model 4. Also look at the variance of the intercept in model 4 and 5 and see which one is lower (Hint: look in the *Random effects* section)."
   ]
  },
  {
   "cell_type": "code",
   "execution_count": null,
   "id": "b69b9383-68c1-4331-b0bf-e0f637376cfe",
   "metadata": {},
   "outputs": [],
   "source": [
    "# INSERT CODE HERE #"
   ]
  },
  {
   "cell_type": "markdown",
   "id": "025644ba-8eeb-46de-97ac-ba3cb9b74cab",
   "metadata": {},
   "source": [
    "**TASK:** Plot the predicted trajectories using model 5."
   ]
  },
  {
   "cell_type": "code",
   "execution_count": null,
   "id": "f70f70fc-3a1f-43f8-86a8-85697f691b70",
   "metadata": {},
   "outputs": [],
   "source": [
    "# INSERT CODE HERE # "
   ]
  },
  {
   "cell_type": "markdown",
   "id": "87c1b682-8ff4-4546-995a-0fadf366c2ba",
   "metadata": {},
   "source": [
    "### Estimate a random coefficient / slope model with time-invariant and time-varying covariates"
   ]
  },
  {
   "cell_type": "markdown",
   "id": "2b07a311-f567-4e29-9a1b-ba49693e3fdc",
   "metadata": {},
   "source": [
    "You may have noticed that including time-invariant covariates reduced the unexplained variance between local authorities but not for within local authorities. This intuitively makes sense: a covariate that measures differences between units will not help explain differences within units. So let's address the latter by including variables that change over time e.g., material deprivation, ethnic composition."
   ]
  },
  {
   "cell_type": "code",
   "execution_count": null,
   "id": "732b8bfc-d77b-4b40-b57d-e4d2f9fb8c28",
   "metadata": {},
   "outputs": [],
   "source": [
    "df$pph_cat <- relevel(df$pph_cat, \"Rural\") # set Rural as the base / reference category for the urban/rural variable for model estimation"
   ]
  },
  {
   "cell_type": "code",
   "execution_count": null,
   "id": "17b02932-434c-4e0a-a5a9-8d744fc46a3a",
   "metadata": {},
   "outputs": [],
   "source": [
    "m6 <- lmer(charpop ~ period + period2 + region + pph_cat + town + qual + nonbw + (1 + period | la_id), data = df, REML = FALSE)\n",
    "summary(m6)"
   ]
  },
  {
   "cell_type": "markdown",
   "id": "da289f2c-1f94-4add-ac7b-51b8ba0e9d63",
   "metadata": {},
   "source": [
    "**QUESTION:** Interpret the results from the fixed part of the model. For example, what is the expected change in charity density for a one-unit increase in material deprivation (`town`)? Do rural areas have higher density than urban areas?"
   ]
  },
  {
   "cell_type": "markdown",
   "id": "e9e48100-aac6-4ecf-b98e-277fd97961d9",
   "metadata": {},
   "source": [
    "**QUESTION:** Look at the variances for the intercept and slope in the *Random effects* section - have they decreased? How can the variance for the intercept decrease by adding time-varying covariates?"
   ]
  },
  {
   "cell_type": "code",
   "execution_count": null,
   "id": "0c3a349b-5c9e-4d66-aac0-87d7fea4de5d",
   "metadata": {},
   "outputs": [],
   "source": [
    "lrtest(m5, m6)"
   ]
  },
  {
   "cell_type": "code",
   "execution_count": null,
   "id": "09a382c0-15dc-4b83-bd7e-094d2f128d44",
   "metadata": {},
   "outputs": [],
   "source": [
    "rpm6 <- as.data.frame(VarCorr(m6))\n",
    "\n",
    "# VPC/ICC = var(u)/[var(u) +var(e)]\n",
    "rpm6$vcov[rpm6$grp == \"la_id\"] / sum(rpm6$vcov)\n",
    "# note we are only interested in first result"
   ]
  },
  {
   "cell_type": "markdown",
   "id": "3927c7f9-2757-438c-9de2-13fcb38581b4",
   "metadata": {},
   "source": [
    "### Use final model to generate estimates of the random intercepts and coefficients / slopes"
   ]
  },
  {
   "cell_type": "markdown",
   "id": "6b90e868-ec43-4b8f-87c2-f76e3c12f976",
   "metadata": {},
   "source": [
    "Now we have settled on a final model that fits the data well, let's produce some derived results to aid our interpretation of the findings. In particular, we will estimate the intercepts and slopes for each local authority and cehck whether there are any particularly odd / outlier areas."
   ]
  },
  {
   "cell_type": "markdown",
   "id": "092d7a48-6250-4e60-af76-155dfdb97548",
   "metadata": {},
   "source": [
    "#### Predict and plot trajectories"
   ]
  },
  {
   "cell_type": "code",
   "execution_count": null,
   "id": "37aced9d-3715-4f1d-8ea5-e069e322cd24",
   "metadata": {},
   "outputs": [],
   "source": [
    "df$xbu1 <- predict(m6)\n",
    "\n",
    "# Plot the fitted growth curves\n",
    "ggplot(df, aes(x = year, y = xbu1, group = la_id)) +\n",
    "    geom_line() +\n",
    "    theme_classic()"
   ]
  },
  {
   "cell_type": "markdown",
   "id": "c0d49322-bdb1-45e6-9089-79f2da8a25bd",
   "metadata": {},
   "source": [
    "We can also plot the fitted trajectories by interesting variables (including those not in the model) in our data:"
   ]
  },
  {
   "cell_type": "code",
   "execution_count": null,
   "id": "d8c730c6-67ac-4aa9-9fce-80205f4025e9",
   "metadata": {},
   "outputs": [],
   "source": [
    "ggplot(df, aes(x = year, y = xbu1, group = la_id)) +\n",
    "    geom_line() +\n",
    "    facet_wrap(~region) +\n",
    "    theme_classic()"
   ]
  },
  {
   "cell_type": "markdown",
   "id": "ec741c82-c86d-4094-aa60-0113638c69ea",
   "metadata": {},
   "source": [
    "**TASK:** Plot the predicted trajectories by the `pph_cat` variable. What do you notice?"
   ]
  },
  {
   "cell_type": "markdown",
   "id": "5941ba58-3e94-4024-a514-309e9f884bee",
   "metadata": {},
   "source": [
    "#### Produce random effects for each local authority"
   ]
  },
  {
   "cell_type": "code",
   "execution_count": null,
   "id": "a1c7719a-69cd-469d-b1ac-0ae43ccfd0ec",
   "metadata": {},
   "outputs": [],
   "source": [
    "u01m6 <- data.frame(ranef(m6), condVar = TRUE)\n",
    "sample_n(u01m6, 20) # sample 20 observations from the random effects dataset"
   ]
  },
  {
   "cell_type": "markdown",
   "id": "bfcbde47-ebad-4802-a9da-b181fcbe5841",
   "metadata": {},
   "source": [
    "For the subsequent tasks it is easier to split this data into two: one for the random intercepts and one for the random coeffients / slopes:"
   ]
  },
  {
   "cell_type": "code",
   "execution_count": null,
   "id": "a630e287-bca7-4d8d-9a5d-32c588377c7f",
   "metadata": {},
   "outputs": [],
   "source": [
    "u0m6 <- u01m6[u01m6$term==\"(Intercept)\",]\n",
    "u1m6 <- u01m6[u01m6$term==\"period\",]"
   ]
  },
  {
   "cell_type": "markdown",
   "id": "1f332de1-b48b-4461-a8de-6f1612e5286b",
   "metadata": {},
   "source": [
    "We can now produce a 'caterpillar plot' of the ranking of each set of random effects - this will allow us to detect outliers i.e., local authorities that are statistically significantly above or below average."
   ]
  },
  {
   "cell_type": "code",
   "execution_count": null,
   "id": "d3df1943-357a-40d5-9254-3868c577b8df",
   "metadata": {},
   "outputs": [],
   "source": [
    "# Calculate the lower and upper values of the confidence intervals\n",
    "u0m6$lower <- u0m6$condval - 1.96*u0m6$condsd\n",
    "u0m6$upper <- u0m6$condval + 1.96*u0m6$condsd\n",
    "# By multiplying  the standard errors by 1.96 we calculate 95% confidence\n",
    "# intervals\n",
    "\n",
    "# Rank the local authority effects\n",
    "u0m6$rank <- rank(u0m6$condval)\n",
    "sample_n(u0m6, 10)"
   ]
  },
  {
   "cell_type": "markdown",
   "id": "922cd48c-8aa0-40ad-ba25-b15b6873c439",
   "metadata": {},
   "source": [
    "The `rank` variable now captures the ranking of the random intercepts, from lowest to highest."
   ]
  },
  {
   "cell_type": "code",
   "execution_count": null,
   "id": "f41dddb7-269d-4723-9f79-67fdc3226d43",
   "metadata": {},
   "outputs": [],
   "source": [
    "ggplot(u0m6, aes(x = rank, y = condval, ymin = lower, ymax = upper)) +\n",
    "    geom_hline(yintercept = 0) +\n",
    "    geom_errorbar() +\n",
    "    geom_point() +\n",
    "    theme_classic()"
   ]
  },
  {
   "cell_type": "markdown",
   "id": "e22b9d8e-2100-4dcf-8815-88397fce6daa",
   "metadata": {},
   "source": [
    "Let's unpack this as there's a lot going on:\n",
    "* The horizontal line represents the intercept for the whole sample (i.e., the mean level of charity density in 1971). It is centred on 0 so we can better identify deviations from the average. \n",
    "* The dots and error bars represent the deviation of each specific local authority from the overall intercept. If the bars **do not** overlap with 0 then that is evidence of statistically significant deviations from the average (i.e., some local authorities have much higher or lower levels of charity density in 1971 than expected).\n",
    "* The fact that there are obvious deviations from the average suggests that there are covariates missing from the model that might explain differences between local authorities. (Remember that random effects are residuals - the difference between observed values and values predicted by your model. Ideally these residuals are unexplainable e.g., due to luck, random chance etc, but this is only the case when you have **only** and **all** relevant covariates in your model (rarely the case))."
   ]
  },
  {
   "cell_type": "markdown",
   "id": "554d94bc-80c0-4efc-8233-e26203faa1a2",
   "metadata": {},
   "source": [
    "Let's produce the same plot but for the random coefficients / slopes:"
   ]
  },
  {
   "cell_type": "code",
   "execution_count": null,
   "id": "8e088084-b55a-440b-adad-7034285743a5",
   "metadata": {},
   "outputs": [],
   "source": [
    "# Calculate the lower and upper values of the confidence intervals\n",
    "u1m6$lower <- u1m6$condval - 1.96*u1m6$condsd\n",
    "u1m6$upper <- u1m6$condval + 1.96*u1m6$condsd\n",
    "# By multiplying  the standard errors by 1.96 we calculate 95% confidence\n",
    "# intervals\n",
    "\n",
    "# Rank the local authority effects\n",
    "u1m6$rank <- rank(u1m6$condval)\n",
    "sample_n(u1m6, 10)"
   ]
  },
  {
   "cell_type": "code",
   "execution_count": null,
   "id": "beeb48dd-b529-4523-9b7a-afa6027f1d0a",
   "metadata": {},
   "outputs": [],
   "source": [
    "ggplot(u1m6, aes(x = rank, y = condval, ymin = lower, ymax = upper)) +\n",
    "    geom_hline(yintercept = 0) +\n",
    "    geom_errorbar() +\n",
    "    geom_point() +\n",
    "    theme_classic()"
   ]
  },
  {
   "cell_type": "markdown",
   "id": "40125b55-8fd5-4585-91c7-312f7cb378e5",
   "metadata": {},
   "source": [
    "We can see that the random coefficients / slopes do not deviate from the overall average by much: there are only a handful of local authorities that have faster rates of change (steeper linear trajectories) than expected."
   ]
  },
  {
   "cell_type": "markdown",
   "id": "28ff86b6-2d38-42e7-bd18-94fcf53503bc",
   "metadata": {},
   "source": [
    "## Conclusion"
   ]
  },
  {
   "cell_type": "markdown",
   "id": "10f3b94c-90b9-4069-816e-8f4c20178478",
   "metadata": {},
   "source": [
    "We have covered a great deal of the essential elements of modeling trajectories in the social sciences (well done). However there are plenty of other considerations to be made as you engage more deeply with this topic:\n",
    "* **Cross-level interactions** - including interactions between variables measured at different levels (e.g., `region` and `town` in our example).\n",
    "* **Estimating and examining variance functions** - is the unexplained variance at the higher level (e.g., local authority) growing or shrinking over time? That is, is it becoming more or less difficult to predict the outcome over time?\n",
    "* **Specifying different error structures** - perhaps it makes sense to allow the VPC / ICC to vary over time (see point above), or to allow the residual variance of the intercept to depend on categories of an important covariate (e.g., maybe regions have different levels of unexplained variance?).\n",
    "* **Autocorrelation** - perhaps a model that allows the residuals to be autocorrelated (i.e., dependent on past values) is a better fit than a growth curve / trajectory?"
   ]
  },
  {
   "cell_type": "markdown",
   "id": "489a56f5-5e0c-453e-88f3-5a521363eb34",
   "metadata": {},
   "source": [
    "You are encouraged to see the suggested readings for resources you can use to deepen your understanding of and fluency in this topic."
   ]
  },
  {
   "cell_type": "markdown",
   "id": "1a98f6e9-30f3-4510-a05b-4bfbeb0d78f5",
   "metadata": {},
   "source": [
    "--END OF FILE--"
   ]
  }
 ],
 "metadata": {
  "kernelspec": {
   "display_name": "R",
   "language": "R",
   "name": "ir"
  },
  "language_info": {
   "codemirror_mode": "r",
   "file_extension": ".r",
   "mimetype": "text/x-r-source",
   "name": "R",
   "pygments_lexer": "r",
   "version": "4.3.1"
  }
 },
 "nbformat": 4,
 "nbformat_minor": 5
}
